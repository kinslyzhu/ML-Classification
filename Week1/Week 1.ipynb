{
 "cells": [
  {
   "cell_type": "markdown",
   "metadata": {},
   "source": [
    "## Instruction\n",
    "\n",
    "All the code is depending on python 3.5, pandas, scikit-learn, json"
   ]
  },
  {
   "cell_type": "markdown",
   "metadata": {},
   "source": [
    "## Fire up the Library "
   ]
  },
  {
   "cell_type": "code",
   "execution_count": 1,
   "metadata": {
    "collapsed": true
   },
   "outputs": [],
   "source": [
    "import pandas as pd\n",
    "import numpy as np\n"
   ]
  },
  {
   "cell_type": "markdown",
   "metadata": {},
   "source": [
    "## Remove punctuation and set sentiment "
   ]
  },
  {
   "cell_type": "code",
   "execution_count": 2,
   "metadata": {
    "collapsed": false
   },
   "outputs": [],
   "source": [
    "products = pd.read_csv('amazon_baby.csv')\n",
    "\n",
    "products = products.fillna({'review':''})\n",
    "\n",
    "def remove_punctuation(text):\n",
    "    #print(text)\n",
    "    import string\n",
    "    instr = string.punctuation\n",
    "    outstr = \" \"*len(string.punctuation)\n",
    "    table = str.maketrans(instr, outstr )\n",
    "    return text.translate(table) \n",
    "\n",
    "\n",
    "#products['review_clean'] = products['review'].apply(str)\n",
    "products['review_clean'] = products['review'].apply(remove_punctuation)\n",
    "\n",
    "\n",
    "products = products[products['rating'] != 3]\n",
    "\n",
    "products['sentiment'] = products['rating'].apply(lambda rating : +1 if rating > 3 else -1)"
   ]
  },
  {
   "cell_type": "code",
   "execution_count": 3,
   "metadata": {
    "collapsed": false
   },
   "outputs": [
    {
     "ename": "NameError",
     "evalue": "name 'train' is not defined",
     "output_type": "error",
     "traceback": [
      "\u001b[1;31m---------------------------------------------------------------------------\u001b[0m",
      "\u001b[1;31mNameError\u001b[0m                                 Traceback (most recent call last)",
      "\u001b[1;32m<ipython-input-3-20969ffe96f0>\u001b[0m in \u001b[0;36m<module>\u001b[1;34m()\u001b[0m\n\u001b[0;32m      1\u001b[0m \u001b[1;31m#products['review_clean'] = products['review'].apply(remove_punctuation)\u001b[0m\u001b[1;33m\u001b[0m\u001b[1;33m\u001b[0m\u001b[0m\n\u001b[1;32m----> 2\u001b[1;33m \u001b[0mlen\u001b[0m\u001b[1;33m(\u001b[0m\u001b[0mtrain\u001b[0m\u001b[1;33m)\u001b[0m\u001b[1;33m\u001b[0m\u001b[0m\n\u001b[0m",
      "\u001b[1;31mNameError\u001b[0m: name 'train' is not defined"
     ]
    }
   ],
   "source": [
    "#products['review_clean'] = products['review'].apply(remove_punctuation)\n",
    "len(train)"
   ]
  },
  {
   "cell_type": "markdown",
   "metadata": {},
   "source": [
    "## Get train_matrix "
   ]
  },
  {
   "cell_type": "code",
   "execution_count": 6,
   "metadata": {
    "collapsed": false
   },
   "outputs": [],
   "source": [
    "import json\n",
    "\n",
    "with open('module-2-assignment-test-idx.json') as json_data:\n",
    "    d = json.load(json_data)\n",
    "test = products.iloc[d]\n",
    "with open('module-2-assignment-train-idx.json') as json_data:\n",
    "    d1 = json.load(json_data)\n",
    "train = products.iloc[d1]\n",
    "\n",
    "\n",
    "\n",
    "\n",
    "\n",
    "from sklearn.feature_extraction.text import CountVectorizer\n",
    "\n",
    "vectorizer = CountVectorizer(token_pattern=r'\\b\\w+\\b') \n",
    "# r'\\b\\w+\\b' is the keep word by space. \\b is space, \\w+ is word\n",
    "     # Use this token pattern to keep single-letter words\n",
    "# First, learn vocabulary from the training data and assign columns to words\n",
    "# Then convert the training data into a sparse matrix\n",
    "train_matrix = vectorizer.fit_transform(train['review_clean'])\n",
    "# Second, convert the test data into a sparse matrix, using the same word-column mapping\n",
    "test_matrix = vectorizer.transform(test['review_clean'])"
   ]
  },
  {
   "cell_type": "code",
   "execution_count": 5,
   "metadata": {
    "collapsed": false
   },
   "outputs": [
    {
     "data": {
      "text/plain": [
       "<133416x57445 sparse matrix of type '<class 'numpy.int64'>'\n",
       "\twith 7431855 stored elements in Compressed Sparse Row format>"
      ]
     },
     "execution_count": 5,
     "metadata": {},
     "output_type": "execute_result"
    }
   ],
   "source": [
    "train_matrix"
   ]
  },
  {
   "cell_type": "markdown",
   "metadata": {},
   "source": [
    "I have no idea about the difference of scikit learn, i use the same code on the website,\n",
    "but it seems like I only get 57745 params, but it should be 121712"
   ]
  },
  {
   "cell_type": "markdown",
   "metadata": {},
   "source": [
    "## Train the model "
   ]
  },
  {
   "cell_type": "code",
   "execution_count": 4,
   "metadata": {
    "collapsed": false,
    "scrolled": false
   },
   "outputs": [],
   "source": [
    "from sklearn.linear_model import LogisticRegression\n",
    "\n",
    "traget = train['sentiment']\n",
    "\n",
    "LR_total = LogisticRegression()\n",
    "result = LR_total.fit(train_matrix, traget)"
   ]
  },
  {
   "cell_type": "markdown",
   "metadata": {},
   "source": [
    "## Calculate the positive params "
   ]
  },
  {
   "cell_type": "code",
   "execution_count": 5,
   "metadata": {
    "collapsed": false,
    "scrolled": true
   },
   "outputs": [
    {
     "name": "stdout",
     "output_type": "stream",
     "text": [
      "39463\n",
      "57445\n"
     ]
    }
   ],
   "source": [
    "n = 0\n",
    "for i in result.coef_[0]:\n",
    "    if i >= 0:\n",
    "        n = n+1\n",
    "        \n",
    "print(n)\n",
    "print(len(result.coef_[0]))"
   ]
  },
  {
   "cell_type": "code",
   "execution_count": 15,
   "metadata": {
    "collapsed": false
   },
   "outputs": [
    {
     "data": {
      "text/plain": [
       "<133416x57445 sparse matrix of type '<class 'numpy.int64'>'\n",
       "\twith 7431855 stored elements in Compressed Sparse Row format>"
      ]
     },
     "execution_count": 15,
     "metadata": {},
     "output_type": "execute_result"
    }
   ],
   "source": [
    "train_matrix"
   ]
  },
  {
   "cell_type": "code",
   "execution_count": 226,
   "metadata": {
    "collapsed": false
   },
   "outputs": [
    {
     "data": {
      "text/plain": [
       "'Absolutely love it and all of the Scripture in it.  I purchased the Baby Boy version for my grandson when he was born and my daughter-in-law was thrilled to receive the same book again.'"
      ]
     },
     "execution_count": 226,
     "metadata": {},
     "output_type": "execute_result"
    }
   ],
   "source": [
    "sample_test_data = test[10:13]\n",
    "sample_test_data['review'].iloc[0]"
   ]
  },
  {
   "cell_type": "code",
   "execution_count": 182,
   "metadata": {
    "collapsed": false
   },
   "outputs": [
    {
     "data": {
      "text/plain": [
       "array([  4.96098458,  -3.01485982, -10.69266387])"
      ]
     },
     "execution_count": 182,
     "metadata": {},
     "output_type": "execute_result"
    }
   ],
   "source": [
    "sample_test_matrix = vectorizer.transform(sample_test_data['review'])\n",
    "scores = LR_total.decision_function(sample_test_matrix)\n",
    "scores"
   ]
  },
  {
   "cell_type": "code",
   "execution_count": 66,
   "metadata": {
    "collapsed": false
   },
   "outputs": [
    {
     "data": {
      "text/plain": [
       "array([ 1, -1, -1], dtype=int64)"
      ]
     },
     "execution_count": 66,
     "metadata": {},
     "output_type": "execute_result"
    }
   ],
   "source": [
    "LR.predict(sample_test_matrix)"
   ]
  },
  {
   "cell_type": "code",
   "execution_count": 183,
   "metadata": {
    "collapsed": false
   },
   "outputs": [
    {
     "data": {
      "text/plain": [
       "array([ 0.00695728,  0.95324095,  0.99997729])"
      ]
     },
     "execution_count": 183,
     "metadata": {},
     "output_type": "execute_result"
    }
   ],
   "source": [
    "Proba = 1/(1+np.exp(scores))\n",
    "Proba"
   ]
  },
  {
   "cell_type": "code",
   "execution_count": 184,
   "metadata": {
    "collapsed": false
   },
   "outputs": [
    {
     "data": {
      "text/plain": [
       "array([[  6.95728350e-03,   9.93042716e-01],\n",
       "       [  9.53240947e-01,   4.67590528e-02],\n",
       "       [  9.99977290e-01,   2.27104229e-05]])"
      ]
     },
     "execution_count": 184,
     "metadata": {},
     "output_type": "execute_result"
    }
   ],
   "source": [
    "Proba_model = LR_total.predict_proba(sample_test_matrix)\n",
    "Proba_model"
   ]
  },
  {
   "cell_type": "code",
   "execution_count": 185,
   "metadata": {
    "collapsed": false
   },
   "outputs": [
    {
     "name": "stdout",
     "output_type": "stream",
     "text": [
      "[  2.85926408e-01   7.02158647e-07   7.44626277e-02 ...,   2.10178785e-05\n",
      "   2.53476120e-06   2.33217997e-02]\n"
     ]
    }
   ],
   "source": [
    "Proba_model_all = LR_total.predict_proba(test_matrix)\n",
    "print(Proba_model_all[:,0])"
   ]
  },
  {
   "cell_type": "markdown",
   "metadata": {},
   "source": [
    "## Find the most positive review"
   ]
  },
  {
   "cell_type": "code",
   "execution_count": 230,
   "metadata": {
    "collapsed": false
   },
   "outputs": [
    {
     "name": "stderr",
     "output_type": "stream",
     "text": [
      "C:\\Users\\kinsly\\AppData\\Local\\Continuum\\Anaconda3\\lib\\site-packages\\ipykernel\\__main__.py:1: SettingWithCopyWarning: \n",
      "A value is trying to be set on a copy of a slice from a DataFrame.\n",
      "Try using .loc[row_indexer,col_indexer] = value instead\n",
      "\n",
      "See the caveats in the documentation: http://pandas.pydata.org/pandas-docs/stable/indexing.html#indexing-view-versus-copy\n",
      "  if __name__ == '__main__':\n"
     ]
    }
   ],
   "source": [
    "test['proba'] = np.array(Proba_model_all[:,0])"
   ]
  },
  {
   "cell_type": "code",
   "execution_count": 231,
   "metadata": {
    "collapsed": false
   },
   "outputs": [],
   "source": [
    "test_AfterSort = test.sort_values(['sentiment','proba'],ascending = False)"
   ]
  },
  {
   "cell_type": "code",
   "execution_count": 227,
   "metadata": {
    "collapsed": false
   },
   "outputs": [
    {
     "data": {
      "text/plain": [
       "83234         Thirsties Hemp Inserts 2 Pack, Small 6-18 Lbs\n",
       "131271    Motorola MBP36 Remote Wireless Video Baby Moni...\n",
       "168391        Chicco NextFit Convertible Car Seat, Mystique\n",
       "129657    Thirsties 3 Pack Boys Fab Doublers Soft Cotton...\n",
       "140418    Jolly Jumper Arctic Sneak A Peek Infant Car Se...\n",
       "72270     Baby Trend Expedition Double Jogging Stroller,...\n",
       "130219    Exergen Temporal Artery Thermometer MODEL# TAT...\n",
       "13151         Roundabout Convertible Car Seat - Grey Wicker\n",
       "155995                  Similac SimplySmart Bottle, 4 Ounce\n",
       "3167          Sunshine Kids Mighty Tite Seat Belt Tightener\n",
       "171898       Medela 67050 Swing Breast Pump (RECONDITIONED)\n",
       "154361    AppleCheeks Washable Swim Diaper (Size 2, Mojito)\n",
       "176830    Spectra Baby USA S1 Hospital Grade Double/sing...\n",
       "178767    Fisher-Price Ipad Apptivity Seat, Newborn-to-T...\n",
       "117053               Harmony Kids Standard Rocker, Hot Pink\n",
       "11352            Fisher-Price Booster Seat, Blue/Green/Gray\n",
       "30596     Munchkin 2 Pack Fresh Food Feeder, Colors May ...\n",
       "152283    Manito Baby Shampoo Shower Hat / Cap / Visor /...\n",
       "25096     Kiddopotamus SwaddleMe 100% Cotton Knit, Small...\n",
       "4884      Safety 1st 900 Mhz Sight And Sound Nursery Mon...\n",
       "Name: name, dtype: object"
      ]
     },
     "execution_count": 227,
     "metadata": {},
     "output_type": "execute_result"
    }
   ],
   "source": [
    "test_AfterSort.name[0:20]"
   ]
  },
  {
   "cell_type": "code",
   "execution_count": 232,
   "metadata": {
    "collapsed": false
   },
   "outputs": [
    {
     "data": {
      "text/plain": [
       "11496            Fisher-Price Booster Seat, Blue/Green/Gray\n",
       "41741     South Shore Furniture, Peak-a-Boo Collection, ...\n",
       "131329    Motorola MBP36 Remote Wireless Video Baby Moni...\n",
       "86793     Baby Jogger 2010 City Mini Double Stroller, Bl...\n",
       "57104                    BabyPlus Prenatal Education System\n",
       "105860         Joovy Caboose Ultralight Stroller, Blueberry\n",
       "53935     Baby Einstein Musical Motion Activity Jumper, ...\n",
       "56909                          Medela Freestyle Breast Pump\n",
       "110871                     Boppy Prenatal Total Body Pillow\n",
       "161262    Graco SnugRider Elite Stroller &amp; Car Seat ...\n",
       "3063                           Graco Pack 'n Play Sheet Tea\n",
       "110561                 Joovy Nook Highchair, Greenie Fabric\n",
       "123403       Graco Highback TurboBooster Car Seat, Spitfire\n",
       "9008                       DEX Products Sound Sleeper SS-01\n",
       "115375    Summer Infant Carter's Classic Comfort Reclini...\n",
       "119536    Trend Lab Adjustable Cloth Diaper with Liner, ...\n",
       "48046     The First Years Learning Curve First Keys Teether\n",
       "27161            Safety 1st Sound 'n Lights Activity Walker\n",
       "88147     Bean B Clean Baby Scalp Massaging Brush for Cr...\n",
       "101018        Planet Wise Hanging Wet/Dry Diaper Bag, Black\n",
       "Name: name, dtype: object"
      ]
     },
     "execution_count": 232,
     "metadata": {},
     "output_type": "execute_result"
    }
   ],
   "source": [
    "test_AfterSort_ascend = test.sort_values(['sentiment','proba'],ascending = True)\n",
    "test_AfterSort_ascend.name[:20]"
   ]
  },
  {
   "cell_type": "code",
   "execution_count": 209,
   "metadata": {
    "collapsed": false
   },
   "outputs": [
    {
     "name": "stderr",
     "output_type": "stream",
     "text": [
      "C:\\Users\\kinsly\\AppData\\Local\\Continuum\\Anaconda3\\lib\\site-packages\\ipykernel\\__main__.py:2: SettingWithCopyWarning: \n",
      "A value is trying to be set on a copy of a slice from a DataFrame.\n",
      "Try using .loc[row_indexer,col_indexer] = value instead\n",
      "\n",
      "See the caveats in the documentation: http://pandas.pydata.org/pandas-docs/stable/indexing.html#indexing-view-versus-copy\n",
      "  from ipykernel import kernelapp as app\n"
     ]
    }
   ],
   "source": [
    "test_prediction = LR_total.predict(test_matrix)\n",
    "test['sentiment_predict'] = test_prediction"
   ]
  },
  {
   "cell_type": "code",
   "execution_count": 210,
   "metadata": {
    "collapsed": false
   },
   "outputs": [
    {
     "data": {
      "text/plain": [
       "0.9321454283657308"
      ]
     },
     "execution_count": 210,
     "metadata": {},
     "output_type": "execute_result"
    }
   ],
   "source": [
    "correct = (len(test[test['sentiment']==test['sentiment_predict']]))\n",
    "total = (len(test))\n",
    "accuracy = correct/total\n",
    "accuracy"
   ]
  },
  {
   "cell_type": "markdown",
   "metadata": {},
   "source": [
    "## Learn another classifier with fewer words"
   ]
  },
  {
   "cell_type": "code",
   "execution_count": 107,
   "metadata": {
    "collapsed": true
   },
   "outputs": [],
   "source": [
    "significant_words = ['love', 'great', 'easy', 'old', 'little', 'perfect', 'loves', \n",
    "      'well', 'able', 'car', 'broke', 'less', 'even', 'waste', 'disappointed', \n",
    "      'work', 'product', 'money', 'would', 'return']"
   ]
  },
  {
   "cell_type": "code",
   "execution_count": 109,
   "metadata": {
    "collapsed": false
   },
   "outputs": [],
   "source": [
    "vectorizer_word_subset = CountVectorizer(vocabulary=significant_words) # limit to 20 words\n",
    "train_matrix_word_subset = vectorizer_word_subset.fit_transform(train['review_clean'])\n",
    "test_matrix_word_subset = vectorizer_word_subset.transform(test['review_clean'])"
   ]
  },
  {
   "cell_type": "code",
   "execution_count": 187,
   "metadata": {
    "collapsed": false
   },
   "outputs": [],
   "source": [
    "traget = train['sentiment']\n",
    "\n",
    "LR_subset = LogisticRegression()\n",
    "result_subset = LR_subset.fit(train_matrix_word_subset, traget)"
   ]
  },
  {
   "cell_type": "code",
   "execution_count": 129,
   "metadata": {
    "collapsed": false
   },
   "outputs": [],
   "source": [
    "coef_table = pd.DataFrame(data = result_subset.coef_.T, columns = ['coef'])\n",
    "coef_table['word'] = significant_words"
   ]
  },
  {
   "cell_type": "code",
   "execution_count": 233,
   "metadata": {
    "collapsed": false
   },
   "outputs": [
    {
     "name": "stdout",
     "output_type": "stream",
     "text": [
      "[ 1.29311199]\n"
     ]
    },
    {
     "data": {
      "text/html": [
       "<div>\n",
       "<table border=\"1\" class=\"dataframe\">\n",
       "  <thead>\n",
       "    <tr style=\"text-align: right;\">\n",
       "      <th></th>\n",
       "      <th>coef</th>\n",
       "      <th>word</th>\n",
       "    </tr>\n",
       "  </thead>\n",
       "  <tbody>\n",
       "    <tr>\n",
       "      <th>0</th>\n",
       "      <td>1.356421</td>\n",
       "      <td>love</td>\n",
       "    </tr>\n",
       "    <tr>\n",
       "      <th>1</th>\n",
       "      <td>0.943508</td>\n",
       "      <td>great</td>\n",
       "    </tr>\n",
       "    <tr>\n",
       "      <th>2</th>\n",
       "      <td>1.183238</td>\n",
       "      <td>easy</td>\n",
       "    </tr>\n",
       "    <tr>\n",
       "      <th>3</th>\n",
       "      <td>0.082776</td>\n",
       "      <td>old</td>\n",
       "    </tr>\n",
       "    <tr>\n",
       "      <th>4</th>\n",
       "      <td>0.514632</td>\n",
       "      <td>little</td>\n",
       "    </tr>\n",
       "    <tr>\n",
       "      <th>5</th>\n",
       "      <td>1.506878</td>\n",
       "      <td>perfect</td>\n",
       "    </tr>\n",
       "    <tr>\n",
       "      <th>6</th>\n",
       "      <td>1.677630</td>\n",
       "      <td>loves</td>\n",
       "    </tr>\n",
       "    <tr>\n",
       "      <th>7</th>\n",
       "      <td>0.530188</td>\n",
       "      <td>well</td>\n",
       "    </tr>\n",
       "    <tr>\n",
       "      <th>8</th>\n",
       "      <td>0.193079</td>\n",
       "      <td>able</td>\n",
       "    </tr>\n",
       "    <tr>\n",
       "      <th>9</th>\n",
       "      <td>0.056467</td>\n",
       "      <td>car</td>\n",
       "    </tr>\n",
       "    <tr>\n",
       "      <th>10</th>\n",
       "      <td>-1.642191</td>\n",
       "      <td>broke</td>\n",
       "    </tr>\n",
       "    <tr>\n",
       "      <th>11</th>\n",
       "      <td>-0.201699</td>\n",
       "      <td>less</td>\n",
       "    </tr>\n",
       "    <tr>\n",
       "      <th>12</th>\n",
       "      <td>-0.509718</td>\n",
       "      <td>even</td>\n",
       "    </tr>\n",
       "    <tr>\n",
       "      <th>13</th>\n",
       "      <td>-2.026872</td>\n",
       "      <td>waste</td>\n",
       "    </tr>\n",
       "    <tr>\n",
       "      <th>14</th>\n",
       "      <td>-2.350606</td>\n",
       "      <td>disappointed</td>\n",
       "    </tr>\n",
       "    <tr>\n",
       "      <th>15</th>\n",
       "      <td>-0.623536</td>\n",
       "      <td>work</td>\n",
       "    </tr>\n",
       "    <tr>\n",
       "      <th>16</th>\n",
       "      <td>-0.326610</td>\n",
       "      <td>product</td>\n",
       "    </tr>\n",
       "    <tr>\n",
       "      <th>17</th>\n",
       "      <td>-0.869497</td>\n",
       "      <td>money</td>\n",
       "    </tr>\n",
       "    <tr>\n",
       "      <th>18</th>\n",
       "      <td>-0.363230</td>\n",
       "      <td>would</td>\n",
       "    </tr>\n",
       "    <tr>\n",
       "      <th>19</th>\n",
       "      <td>-2.110850</td>\n",
       "      <td>return</td>\n",
       "    </tr>\n",
       "  </tbody>\n",
       "</table>\n",
       "</div>"
      ],
      "text/plain": [
       "        coef          word\n",
       "0   1.356421          love\n",
       "1   0.943508         great\n",
       "2   1.183238          easy\n",
       "3   0.082776           old\n",
       "4   0.514632        little\n",
       "5   1.506878       perfect\n",
       "6   1.677630         loves\n",
       "7   0.530188          well\n",
       "8   0.193079          able\n",
       "9   0.056467           car\n",
       "10 -1.642191         broke\n",
       "11 -0.201699          less\n",
       "12 -0.509718          even\n",
       "13 -2.026872         waste\n",
       "14 -2.350606  disappointed\n",
       "15 -0.623536          work\n",
       "16 -0.326610       product\n",
       "17 -0.869497         money\n",
       "18 -0.363230         would\n",
       "19 -2.110850        return"
      ]
     },
     "execution_count": 233,
     "metadata": {},
     "output_type": "execute_result"
    }
   ],
   "source": [
    "print(result_subset.intercept_)\n",
    "coef_table"
   ]
  },
  {
   "cell_type": "code",
   "execution_count": 171,
   "metadata": {
    "collapsed": false
   },
   "outputs": [],
   "source": [
    "vocab = list(vectorizer.vocabulary_)\n",
    "sentiment_model_coef_table = pd.DataFrame(data = result.coef_[0], columns = ['coef'])\n",
    "sentiment_model_coef_table['word'] = vocab\n",
    "temp = sentiment_model_coef_table.copy()\n",
    "#temp.loc[significant_words[0]]"
   ]
  },
  {
   "cell_type": "code",
   "execution_count": 175,
   "metadata": {
    "collapsed": false
   },
   "outputs": [
    {
     "data": {
      "text/html": [
       "<div>\n",
       "<table border=\"1\" class=\"dataframe\">\n",
       "  <thead>\n",
       "    <tr style=\"text-align: right;\">\n",
       "      <th></th>\n",
       "      <th>coef</th>\n",
       "      <th>word</th>\n",
       "    </tr>\n",
       "  </thead>\n",
       "  <tbody>\n",
       "    <tr>\n",
       "      <th>love</th>\n",
       "      <td>-2.405787e-06</td>\n",
       "      <td>love</td>\n",
       "    </tr>\n",
       "    <tr>\n",
       "      <th>great</th>\n",
       "      <td>6.881617e-03</td>\n",
       "      <td>great</td>\n",
       "    </tr>\n",
       "    <tr>\n",
       "      <th>easy</th>\n",
       "      <td>3.098818e-06</td>\n",
       "      <td>easy</td>\n",
       "    </tr>\n",
       "    <tr>\n",
       "      <th>old</th>\n",
       "      <td>9.432181e-02</td>\n",
       "      <td>old</td>\n",
       "    </tr>\n",
       "    <tr>\n",
       "      <th>little</th>\n",
       "      <td>4.075364e-01</td>\n",
       "      <td>little</td>\n",
       "    </tr>\n",
       "    <tr>\n",
       "      <th>perfect</th>\n",
       "      <td>6.325836e-01</td>\n",
       "      <td>perfect</td>\n",
       "    </tr>\n",
       "    <tr>\n",
       "      <th>loves</th>\n",
       "      <td>7.040350e-03</td>\n",
       "      <td>loves</td>\n",
       "    </tr>\n",
       "    <tr>\n",
       "      <th>well</th>\n",
       "      <td>1.069722e-03</td>\n",
       "      <td>well</td>\n",
       "    </tr>\n",
       "    <tr>\n",
       "      <th>able</th>\n",
       "      <td>1.652672e-02</td>\n",
       "      <td>able</td>\n",
       "    </tr>\n",
       "    <tr>\n",
       "      <th>car</th>\n",
       "      <td>2.580584e-07</td>\n",
       "      <td>car</td>\n",
       "    </tr>\n",
       "    <tr>\n",
       "      <th>broke</th>\n",
       "      <td>2.993051e-02</td>\n",
       "      <td>broke</td>\n",
       "    </tr>\n",
       "    <tr>\n",
       "      <th>less</th>\n",
       "      <td>1.040320e-03</td>\n",
       "      <td>less</td>\n",
       "    </tr>\n",
       "    <tr>\n",
       "      <th>even</th>\n",
       "      <td>2.063440e-02</td>\n",
       "      <td>even</td>\n",
       "    </tr>\n",
       "    <tr>\n",
       "      <th>waste</th>\n",
       "      <td>2.593049e-01</td>\n",
       "      <td>waste</td>\n",
       "    </tr>\n",
       "    <tr>\n",
       "      <th>disappointed</th>\n",
       "      <td>9.034746e-05</td>\n",
       "      <td>disappointed</td>\n",
       "    </tr>\n",
       "    <tr>\n",
       "      <th>work</th>\n",
       "      <td>-3.289351e-01</td>\n",
       "      <td>work</td>\n",
       "    </tr>\n",
       "    <tr>\n",
       "      <th>product</th>\n",
       "      <td>2.644118e-02</td>\n",
       "      <td>product</td>\n",
       "    </tr>\n",
       "    <tr>\n",
       "      <th>money</th>\n",
       "      <td>1.303359e-03</td>\n",
       "      <td>money</td>\n",
       "    </tr>\n",
       "    <tr>\n",
       "      <th>would</th>\n",
       "      <td>-1.630191e-07</td>\n",
       "      <td>would</td>\n",
       "    </tr>\n",
       "    <tr>\n",
       "      <th>return</th>\n",
       "      <td>-7.274113e-01</td>\n",
       "      <td>return</td>\n",
       "    </tr>\n",
       "  </tbody>\n",
       "</table>\n",
       "</div>"
      ],
      "text/plain": [
       "                      coef          word\n",
       "love         -2.405787e-06          love\n",
       "great         6.881617e-03         great\n",
       "easy          3.098818e-06          easy\n",
       "old           9.432181e-02           old\n",
       "little        4.075364e-01        little\n",
       "perfect       6.325836e-01       perfect\n",
       "loves         7.040350e-03         loves\n",
       "well          1.069722e-03          well\n",
       "able          1.652672e-02          able\n",
       "car           2.580584e-07           car\n",
       "broke         2.993051e-02         broke\n",
       "less          1.040320e-03          less\n",
       "even          2.063440e-02          even\n",
       "waste         2.593049e-01         waste\n",
       "disappointed  9.034746e-05  disappointed\n",
       "work         -3.289351e-01          work\n",
       "product       2.644118e-02       product\n",
       "money         1.303359e-03         money\n",
       "would        -1.630191e-07         would\n",
       "return       -7.274113e-01        return"
      ]
     },
     "execution_count": 175,
     "metadata": {},
     "output_type": "execute_result"
    }
   ],
   "source": [
    "temp.index = vocab\n",
    "temp.loc[significant_words]"
   ]
  },
  {
   "cell_type": "code",
   "execution_count": 188,
   "metadata": {
    "collapsed": false
   },
   "outputs": [
    {
     "name": "stderr",
     "output_type": "stream",
     "text": [
      "C:\\Users\\kinsly\\AppData\\Local\\Continuum\\Anaconda3\\lib\\site-packages\\ipykernel\\__main__.py:2: SettingWithCopyWarning: \n",
      "A value is trying to be set on a copy of a slice from a DataFrame.\n",
      "Try using .loc[row_indexer,col_indexer] = value instead\n",
      "\n",
      "See the caveats in the documentation: http://pandas.pydata.org/pandas-docs/stable/indexing.html#indexing-view-versus-copy\n",
      "  from ipykernel import kernelapp as app\n"
     ]
    }
   ],
   "source": [
    "simple_prediction = LR_subset.predict(test_matrix_word_subset)\n",
    "test['simple_predict'] = simple_prediction"
   ]
  },
  {
   "cell_type": "code",
   "execution_count": 178,
   "metadata": {
    "collapsed": false
   },
   "outputs": [
    {
     "data": {
      "text/plain": [
       "0.8702003839692825"
      ]
     },
     "execution_count": 178,
     "metadata": {},
     "output_type": "execute_result"
    }
   ],
   "source": [
    "correct = (len(test[test['sentiment']==test['simple_predict']]))\n",
    "total = (len(test))\n",
    "accuracy = correct/total\n",
    "accuracy"
   ]
  },
  {
   "cell_type": "code",
   "execution_count": 190,
   "metadata": {
    "collapsed": false
   },
   "outputs": [
    {
     "name": "stderr",
     "output_type": "stream",
     "text": [
      "C:\\Users\\kinsly\\AppData\\Local\\Continuum\\Anaconda3\\lib\\site-packages\\ipykernel\\__main__.py:2: SettingWithCopyWarning: \n",
      "A value is trying to be set on a copy of a slice from a DataFrame.\n",
      "Try using .loc[row_indexer,col_indexer] = value instead\n",
      "\n",
      "See the caveats in the documentation: http://pandas.pydata.org/pandas-docs/stable/indexing.html#indexing-view-versus-copy\n",
      "  from ipykernel import kernelapp as app\n"
     ]
    }
   ],
   "source": [
    "simple_train_prediction = LR_subset.predict(train_matrix_word_subset)\n",
    "train['simple_predict'] = simple_train_prediction"
   ]
  },
  {
   "cell_type": "code",
   "execution_count": 195,
   "metadata": {
    "collapsed": false
   },
   "outputs": [
    {
     "name": "stdout",
     "output_type": "stream",
     "text": [
      "accuracy_train_subset 0.8672198237093003\n"
     ]
    }
   ],
   "source": [
    "correct_train_subset = (len(train[train['sentiment']==train['simple_predict']]))\n",
    "train_subset = (len(train))\n",
    "accuracy_train_subset = correct_train_subset/train_subset\n",
    "print('accuracy_train_subset',accuracy_train_subset)"
   ]
  },
  {
   "cell_type": "code",
   "execution_count": 198,
   "metadata": {
    "collapsed": false
   },
   "outputs": [
    {
     "name": "stdout",
     "output_type": "stream",
     "text": [
      "accuracy_train_total 0.9631378545301913\n"
     ]
    },
    {
     "name": "stderr",
     "output_type": "stream",
     "text": [
      "C:\\Users\\kinsly\\AppData\\Local\\Continuum\\Anaconda3\\lib\\site-packages\\ipykernel\\__main__.py:2: SettingWithCopyWarning: \n",
      "A value is trying to be set on a copy of a slice from a DataFrame.\n",
      "Try using .loc[row_indexer,col_indexer] = value instead\n",
      "\n",
      "See the caveats in the documentation: http://pandas.pydata.org/pandas-docs/stable/indexing.html#indexing-view-versus-copy\n",
      "  from ipykernel import kernelapp as app\n"
     ]
    }
   ],
   "source": [
    "total_train_prediction = LR_total.predict(train_matrix)\n",
    "train['total_predict'] = total_train_prediction\n",
    "correct_train_total = (len(train[train['sentiment']==train['total_predict']]))\n",
    "total_train = (len(train))\n",
    "accuracy_train_total = correct_train_total/total_train\n",
    "print('accuracy_train_total',accuracy_train_total)"
   ]
  },
  {
   "cell_type": "markdown",
   "metadata": {},
   "source": [
    "## Get the accuracy "
   ]
  },
  {
   "cell_type": "code",
   "execution_count": 222,
   "metadata": {
    "collapsed": true
   },
   "outputs": [],
   "source": [
    "def get_classification_accuracy(model, data, true_labels,dataframe):\n",
    "    # First get the predictions\n",
    "    ## YOUR CODE HERE\n",
    "    prediction = model.predict(data)\n",
    "    # Compute the number of correctly classified examples\n",
    "    ## YOUR CODE HERE\n",
    "    temp = dataframe.copy()\n",
    "    temp['predict'] = prediction\n",
    "    correct = (len(temp[temp[true_labels]==temp['predict']]))\n",
    "    # Then compute accuracy by dividing num_correct by total number of examples\n",
    "    ## YOUR CODE HERE\n",
    "    total = (len(dataframe))\n",
    "    print(correct)\n",
    "    accuracy = correct/total\n",
    "    return accuracy\n",
    "   \n",
    "    \n",
    "    \n",
    "    "
   ]
  },
  {
   "cell_type": "code",
   "execution_count": 223,
   "metadata": {
    "collapsed": false
   },
   "outputs": [],
   "source": [
    "train_accuracy = get_classification_accuracy(LR_total, train_matrix, 'sentiment',train)\n",
    "train_subset_accuracy = get_classification_accuracy(LR_subset, train_matrix_word_subset, \n",
    "                                                    'sentiment', train)"
   ]
  },
  {
   "cell_type": "code",
   "execution_count": 224,
   "metadata": {
    "collapsed": false
   },
   "outputs": [],
   "source": [
    "test_accuracy = get_classification_accuracy(LR_total, test_matrix, 'sentiment', test)\n",
    "test_subset_accuracy = get_classification_accuracy(LR_subset, test_matrix_word_subset,\n",
    "                                                  'sentiment', test)"
   ]
  },
  {
   "cell_type": "code",
   "execution_count": 225,
   "metadata": {
    "collapsed": false
   },
   "outputs": [
    {
     "name": "stdout",
     "output_type": "stream",
     "text": [
      "accuracy of total train:  0.9631378545301913\n",
      "accuracy of subset train:  0.8672198237093003\n",
      "accuracy of total test:  0.9321454283657308\n",
      "accuracy of subset test:  0.8702003839692825\n"
     ]
    }
   ],
   "source": [
    "print('accuracy of total train: ',train_accuracy)\n",
    "print('accuracy of subset train: ', train_subset_accuracy)\n",
    "print('accuracy of total test: ', test_accuracy)\n",
    "print('accuracy of subset test: ', test_subset_accuracy)"
   ]
  },
  {
   "cell_type": "code",
   "execution_count": 221,
   "metadata": {
    "collapsed": false
   },
   "outputs": [
    {
     "name": "stdout",
     "output_type": "stream",
     "text": [
      "31074\n",
      "31074\n"
     ]
    },
    {
     "data": {
      "text/plain": [
       "0.9321454283657308"
      ]
     },
     "execution_count": 221,
     "metadata": {},
     "output_type": "execute_result"
    }
   ],
   "source": [
    "def get_classification_accuracy(model, data, true_labels,dataframe):\n",
    "    # First get the predictions\n",
    "    ## YOUR CODE HERE\n",
    "    prediction = model.predict(data)\n",
    "    # Compute the number of correctly classified examples\n",
    "    ## YOUR CODE HERE\n",
    "    temp = dataframe.copy()\n",
    "    temp['predict'] = prediction\n",
    "    correct = (len(temp[temp[true_labels]==temp['predict']]))\n",
    "    # Then compute accuracy by dividing num_correct by total number of examples\n",
    "    ## YOUR CODE HERE\n",
    "    total = (len(dataframe))\n",
    "    print(correct)\n",
    "    accuracy = correct/total\n",
    "    return accuracy\n",
    "\n",
    "prediction = LR_total.predict(test_matrix)\n",
    "temp = test.copy()\n",
    "temp['predict'] = prediction\n",
    "correct = (len(temp[temp['sentiment']==temp['predict']]))\n",
    "print(correct)\n",
    "get_classification_accuracy(LR_total, test_matrix, 'sentiment',test)"
   ]
  },
  {
   "cell_type": "code",
   "execution_count": 236,
   "metadata": {
    "collapsed": false
   },
   "outputs": [
    {
     "name": "stdout",
     "output_type": "stream",
     "text": [
      "112164\n",
      "21252\n"
     ]
    },
    {
     "data": {
      "text/plain": [
       "0.84070876056844757"
      ]
     },
     "execution_count": 236,
     "metadata": {},
     "output_type": "execute_result"
    }
   ],
   "source": [
    "num_positive  = (train['sentiment'] == +1).sum()\n",
    "num_negative = (train['sentiment'] == -1).sum()\n",
    "print (num_positive)\n",
    "print (num_negative)\n",
    "\n",
    "num_positive/len(train)"
   ]
  },
  {
   "cell_type": "code",
   "execution_count": 238,
   "metadata": {
    "collapsed": false
   },
   "outputs": [
    {
     "data": {
      "text/plain": [
       "0.84278257739380846"
      ]
     },
     "execution_count": 238,
     "metadata": {},
     "output_type": "execute_result"
    }
   ],
   "source": [
    "test_positive = (test['sentiment'] == +1).sum()\n",
    "test_negative = (test['sentiment'] == -1).sum()\n",
    "\n",
    "test_positive / len(test)"
   ]
  }
 ],
 "metadata": {
  "anaconda-cloud": {},
  "kernelspec": {
   "display_name": "Python [Root]",
   "language": "python",
   "name": "Python [Root]"
  },
  "language_info": {
   "codemirror_mode": {
    "name": "ipython",
    "version": 3
   },
   "file_extension": ".py",
   "mimetype": "text/x-python",
   "name": "python",
   "nbconvert_exporter": "python",
   "pygments_lexer": "ipython3",
   "version": "3.5.2"
  }
 },
 "nbformat": 4,
 "nbformat_minor": 0
}
